{
 "cells": [
  {
   "cell_type": "code",
   "execution_count": 1,
   "metadata": {},
   "outputs": [],
   "source": [
    "import numpy as np\n",
    "import matplotlib.pyplot as plt\n",
    "from sklearn import datasets"
   ]
  },
  {
   "cell_type": "code",
   "execution_count": 2,
   "metadata": {},
   "outputs": [
    {
     "data": {
      "text/plain": [
       "array([ 1,  1, -1,  1, -1, -1,  1, -1,  1, -1,  1,  1, -1,  1,  1,  1,  1,\n",
       "        1,  1,  1, -1, -1, -1, -1, -1, -1, -1, -1, -1, -1,  1,  1, -1, -1,\n",
       "        1, -1,  1, -1,  1,  1, -1, -1,  1,  1,  1, -1, -1,  1,  1, -1])"
      ]
     },
     "execution_count": 2,
     "metadata": {},
     "output_type": "execute_result"
    }
   ],
   "source": [
    "x, y = datasets.make_blobs(n_samples=50, n_features=2, centers=2, cluster_std=1.05, random_state=40)\n",
    "y = np.where(y == 0,-1,1)\n",
    "y"
   ]
  },
  {
   "cell_type": "code",
   "execution_count": 3,
   "metadata": {},
   "outputs": [
    {
     "data": {
      "text/plain": [
       "(50, 2)"
      ]
     },
     "execution_count": 3,
     "metadata": {},
     "output_type": "execute_result"
    }
   ],
   "source": [
    "x.shape"
   ]
  },
  {
   "cell_type": "code",
   "execution_count": 20,
   "metadata": {},
   "outputs": [
    {
     "data": {
      "text/plain": [
       "array([[  7.12731332,  -4.4394424 ],\n",
       "       [  6.68873898,  -2.44840134],\n",
       "       [ -1.1004791 ,  -7.78436803],\n",
       "       [  3.99337867,  -4.90451269],\n",
       "       [ -1.8171622 ,  -9.22909875],\n",
       "       [ -2.05521901, -10.23141199],\n",
       "       [  4.20397723,  -3.61164749],\n",
       "       [ -0.21804625,  -9.21962706],\n",
       "       [  5.19327641,  -6.38845134],\n",
       "       [ -1.83682056,  -8.21952131],\n",
       "       [  7.54287406,  -5.35284052],\n",
       "       [  4.88954545,  -3.38947816],\n",
       "       [ -1.76558632,  -9.34943001],\n",
       "       [  5.22597752,  -5.5503347 ],\n",
       "       [  6.64886376,  -4.46203664],\n",
       "       [  8.09408178,  -4.8068287 ],\n",
       "       [  6.32916529,  -5.32177094],\n",
       "       [  5.80670214,  -5.14475233],\n",
       "       [  5.67381136,  -3.33963413],\n",
       "       [  7.20870152,  -6.04176429],\n",
       "       [ -3.25014567,  -8.67304842],\n",
       "       [ -1.22856371,  -7.96317275],\n",
       "       [ -3.29446134,  -7.45269997],\n",
       "       [ -1.81294631,  -7.55640734],\n",
       "       [ -1.53809058,  -8.77828137],\n",
       "       [ -3.78288052,  -9.38303174],\n",
       "       [ -2.73473836,  -9.34777956],\n",
       "       [  0.56085542,  -8.37942864],\n",
       "       [ -0.74123127,  -7.87270877],\n",
       "       [ -1.78948268,  -8.62182811],\n",
       "       [  6.50753753,  -3.62561777],\n",
       "       [  4.60302933,  -4.27563422],\n",
       "       [ -1.26561532,  -8.61262708],\n",
       "       [ -0.72123914,  -8.45607028],\n",
       "       [  3.83024448,  -4.07271978],\n",
       "       [ -3.34179681,  -9.47382989],\n",
       "       [  6.05297048,  -6.08234237],\n",
       "       [ -2.91411681,  -9.03305688],\n",
       "       [  3.86649969,  -4.04019832],\n",
       "       [  6.44492377,  -4.43550613],\n",
       "       [ -1.81467949, -10.05599013],\n",
       "       [ -1.76772086,  -9.42358002],\n",
       "       [  2.74565323,  -4.27040575],\n",
       "       [  5.23730283,  -4.11095128],\n",
       "       [  6.34072331,  -4.34259999],\n",
       "       [ -2.30635421,  -8.37456353],\n",
       "       [ -3.09442079,  -9.2409609 ],\n",
       "       [  6.59620916,  -4.32893984],\n",
       "       [  7.24901124,  -3.58913263],\n",
       "       [ -2.03285195,  -8.16158771]])"
      ]
     },
     "execution_count": 20,
     "metadata": {},
     "output_type": "execute_result"
    }
   ],
   "source": [
    "x"
   ]
  },
  {
   "cell_type": "code",
   "execution_count": 9,
   "metadata": {},
   "outputs": [],
   "source": [
    "class SVM:\n",
    "    def __init__(self,learning_rate=0.001,lambda_param=0.01,iters=10000):\n",
    "        self.lr = learning_rate\n",
    "        self.lambda_param = lambda_param\n",
    "        self.iters = iters\n",
    "        self.w = None\n",
    "        self.b = None\n",
    "    def fit(self,x,y):\n",
    "        y_ = np.where(y <= 0,-1,1)\n",
    "        n_samples,n_features = x.shape\n",
    "        self.w = np.zeros(n_features)\n",
    "        self.b = 0\n",
    "        \n",
    "        for i in range(self.iters):\n",
    "            for idx,x_i in enumerate(x):\n",
    "                condition = y_[idx]*(np.dot(x_i,self.w)-self.b)>=1\n",
    "                if condition:\n",
    "                    self.w -=self.lr *(2*self.lambda_param*self.w)\n",
    "                else:\n",
    "                    self.w -= self.lr *(2*self.lambda_param  * self.w - np.dot(x_i,y_[idx]))\n",
    "                    self.b -= self.lr*y_[idx]\n",
    "                \n",
    "    def predict(self,x):\n",
    "        linear_out = np.dot(x,self.w) - self.b\n",
    "        return np.sign(linear_out)"
   ]
  },
  {
   "cell_type": "code",
   "execution_count": 10,
   "metadata": {},
   "outputs": [],
   "source": [
    "clf = SVM()\n",
    "clf.fit(x,y)"
   ]
  },
  {
   "cell_type": "code",
   "execution_count": 12,
   "metadata": {},
   "outputs": [
    {
     "name": "stdout",
     "output_type": "stream",
     "text": [
      "[0.45257302 0.25017548] -0.8350000000000006\n"
     ]
    }
   ],
   "source": [
    "print(clf.w, clf.b)"
   ]
  },
  {
   "cell_type": "code",
   "execution_count": 19,
   "metadata": {},
   "outputs": [
    {
     "data": {
      "text/plain": [
       "array([ 1.,  1., -1.,  1., -1., -1.,  1., -1.,  1., -1.,  1.,  1., -1.,\n",
       "        1.,  1.,  1.,  1.,  1.,  1.,  1., -1., -1., -1., -1., -1., -1.,\n",
       "       -1., -1., -1., -1.,  1.,  1., -1., -1.,  1., -1.,  1., -1.,  1.,\n",
       "        1., -1., -1.,  1.,  1.,  1., -1., -1.,  1.,  1., -1.])"
      ]
     },
     "execution_count": 19,
     "metadata": {},
     "output_type": "execute_result"
    }
   ],
   "source": [
    "clf.predict(x)"
   ]
  },
  {
   "cell_type": "code",
   "execution_count": 33,
   "metadata": {},
   "outputs": [
    {
     "data": {
      "image/png": "[encoded data removed]",
      "text/plain": [
       "<Figure size 432x288 with 1 Axes>"
      ]
     },
     "metadata": {
      "needs_background": "light"
     },
     "output_type": "display_data"
    }
   ],
   "source": [
    "plt.scatter(x[:, 0], x[:, 1], c=y, cmap=plt.cm.coolwarm)\n",
    "plt.xlabel('feature1')\n",
    "plt.ylabel('feature2')\n",
    "plt.show()"
   ]
  }
 ],
 "metadata": {
  "kernelspec": {
   "display_name": "Python 3",
   "language": "python",
   "name": "python3"
  },
  "language_info": {
   "codemirror_mode": {
    "name": "ipython",
    "version": 3
   },
   "file_extension": ".py",
   "mimetype": "text/x-python",
   "name": "python",
   "nbconvert_exporter": "python",
   "pygments_lexer": "ipython3",
   "version": "3.8.5"
  }
 },
 "nbformat": 4,
 "nbformat_minor": 4
}
